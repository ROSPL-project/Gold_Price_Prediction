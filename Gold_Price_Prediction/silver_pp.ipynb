{
 "cells": [
  {
   "cell_type": "code",
   "execution_count": 5,
   "metadata": {},
   "outputs": [],
   "source": [
    "import numpy as np\n",
    "import pandas as pd\n",
    "import matplotlib.pyplot as plt\n",
    "import seaborn as sns\n",
    "from sklearn.model_selection import train_test_split\n",
    "from sklearn.ensemble import RandomForestRegressor\n",
    "from sklearn import metrics"
   ]
  },
  {
   "cell_type": "code",
   "execution_count": 6,
   "metadata": {},
   "outputs": [
    {
     "ename": "FileNotFoundError",
     "evalue": "[Errno 2] No such file or directory: 'new_data.csv'",
     "output_type": "error",
     "traceback": [
      "\u001b[1;31m---------------------------------------------------------------------------\u001b[0m",
      "\u001b[1;31mFileNotFoundError\u001b[0m                         Traceback (most recent call last)",
      "\u001b[1;32mc:\\Users\\91892\\Desktop\\Silver Price Prediction\\Gold_Price_Prediction\\Gold_Price_Prediction\\silver_pp.ipynb Cell 2\u001b[0m line \u001b[0;36m2\n\u001b[0;32m      <a href='vscode-notebook-cell:/c%3A/Users/91892/Desktop/Silver%20Price%20Prediction/Gold_Price_Prediction/Gold_Price_Prediction/silver_pp.ipynb#W1sZmlsZQ%3D%3D?line=0'>1</a>\u001b[0m \u001b[39m# loading the csv data to a Pandas DataFrame\u001b[39;00m\n\u001b[1;32m----> <a href='vscode-notebook-cell:/c%3A/Users/91892/Desktop/Silver%20Price%20Prediction/Gold_Price_Prediction/Gold_Price_Prediction/silver_pp.ipynb#W1sZmlsZQ%3D%3D?line=1'>2</a>\u001b[0m silver_data \u001b[39m=\u001b[39m pd\u001b[39m.\u001b[39;49mread_csv(\u001b[39m'\u001b[39;49m\u001b[39mnew_data.csv\u001b[39;49m\u001b[39m'\u001b[39;49m)\n",
      "File \u001b[1;32mc:\\Users\\91892\\AppData\\Local\\Programs\\Python\\Python310\\lib\\site-packages\\pandas\\util\\_decorators.py:211\u001b[0m, in \u001b[0;36mdeprecate_kwarg.<locals>._deprecate_kwarg.<locals>.wrapper\u001b[1;34m(*args, **kwargs)\u001b[0m\n\u001b[0;32m    209\u001b[0m     \u001b[39melse\u001b[39;00m:\n\u001b[0;32m    210\u001b[0m         kwargs[new_arg_name] \u001b[39m=\u001b[39m new_arg_value\n\u001b[1;32m--> 211\u001b[0m \u001b[39mreturn\u001b[39;00m func(\u001b[39m*\u001b[39margs, \u001b[39m*\u001b[39m\u001b[39m*\u001b[39mkwargs)\n",
      "File \u001b[1;32mc:\\Users\\91892\\AppData\\Local\\Programs\\Python\\Python310\\lib\\site-packages\\pandas\\util\\_decorators.py:331\u001b[0m, in \u001b[0;36mdeprecate_nonkeyword_arguments.<locals>.decorate.<locals>.wrapper\u001b[1;34m(*args, **kwargs)\u001b[0m\n\u001b[0;32m    325\u001b[0m \u001b[39mif\u001b[39;00m \u001b[39mlen\u001b[39m(args) \u001b[39m>\u001b[39m num_allow_args:\n\u001b[0;32m    326\u001b[0m     warnings\u001b[39m.\u001b[39mwarn(\n\u001b[0;32m    327\u001b[0m         msg\u001b[39m.\u001b[39mformat(arguments\u001b[39m=\u001b[39m_format_argument_list(allow_args)),\n\u001b[0;32m    328\u001b[0m         \u001b[39mFutureWarning\u001b[39;00m,\n\u001b[0;32m    329\u001b[0m         stacklevel\u001b[39m=\u001b[39mfind_stack_level(),\n\u001b[0;32m    330\u001b[0m     )\n\u001b[1;32m--> 331\u001b[0m \u001b[39mreturn\u001b[39;00m func(\u001b[39m*\u001b[39margs, \u001b[39m*\u001b[39m\u001b[39m*\u001b[39mkwargs)\n",
      "File \u001b[1;32mc:\\Users\\91892\\AppData\\Local\\Programs\\Python\\Python310\\lib\\site-packages\\pandas\\io\\parsers\\readers.py:950\u001b[0m, in \u001b[0;36mread_csv\u001b[1;34m(filepath_or_buffer, sep, delimiter, header, names, index_col, usecols, squeeze, prefix, mangle_dupe_cols, dtype, engine, converters, true_values, false_values, skipinitialspace, skiprows, skipfooter, nrows, na_values, keep_default_na, na_filter, verbose, skip_blank_lines, parse_dates, infer_datetime_format, keep_date_col, date_parser, dayfirst, cache_dates, iterator, chunksize, compression, thousands, decimal, lineterminator, quotechar, quoting, doublequote, escapechar, comment, encoding, encoding_errors, dialect, error_bad_lines, warn_bad_lines, on_bad_lines, delim_whitespace, low_memory, memory_map, float_precision, storage_options)\u001b[0m\n\u001b[0;32m    935\u001b[0m kwds_defaults \u001b[39m=\u001b[39m _refine_defaults_read(\n\u001b[0;32m    936\u001b[0m     dialect,\n\u001b[0;32m    937\u001b[0m     delimiter,\n\u001b[1;32m   (...)\u001b[0m\n\u001b[0;32m    946\u001b[0m     defaults\u001b[39m=\u001b[39m{\u001b[39m\"\u001b[39m\u001b[39mdelimiter\u001b[39m\u001b[39m\"\u001b[39m: \u001b[39m\"\u001b[39m\u001b[39m,\u001b[39m\u001b[39m\"\u001b[39m},\n\u001b[0;32m    947\u001b[0m )\n\u001b[0;32m    948\u001b[0m kwds\u001b[39m.\u001b[39mupdate(kwds_defaults)\n\u001b[1;32m--> 950\u001b[0m \u001b[39mreturn\u001b[39;00m _read(filepath_or_buffer, kwds)\n",
      "File \u001b[1;32mc:\\Users\\91892\\AppData\\Local\\Programs\\Python\\Python310\\lib\\site-packages\\pandas\\io\\parsers\\readers.py:605\u001b[0m, in \u001b[0;36m_read\u001b[1;34m(filepath_or_buffer, kwds)\u001b[0m\n\u001b[0;32m    602\u001b[0m _validate_names(kwds\u001b[39m.\u001b[39mget(\u001b[39m\"\u001b[39m\u001b[39mnames\u001b[39m\u001b[39m\"\u001b[39m, \u001b[39mNone\u001b[39;00m))\n\u001b[0;32m    604\u001b[0m \u001b[39m# Create the parser.\u001b[39;00m\n\u001b[1;32m--> 605\u001b[0m parser \u001b[39m=\u001b[39m TextFileReader(filepath_or_buffer, \u001b[39m*\u001b[39m\u001b[39m*\u001b[39mkwds)\n\u001b[0;32m    607\u001b[0m \u001b[39mif\u001b[39;00m chunksize \u001b[39mor\u001b[39;00m iterator:\n\u001b[0;32m    608\u001b[0m     \u001b[39mreturn\u001b[39;00m parser\n",
      "File \u001b[1;32mc:\\Users\\91892\\AppData\\Local\\Programs\\Python\\Python310\\lib\\site-packages\\pandas\\io\\parsers\\readers.py:1442\u001b[0m, in \u001b[0;36mTextFileReader.__init__\u001b[1;34m(self, f, engine, **kwds)\u001b[0m\n\u001b[0;32m   1439\u001b[0m     \u001b[39mself\u001b[39m\u001b[39m.\u001b[39moptions[\u001b[39m\"\u001b[39m\u001b[39mhas_index_names\u001b[39m\u001b[39m\"\u001b[39m] \u001b[39m=\u001b[39m kwds[\u001b[39m\"\u001b[39m\u001b[39mhas_index_names\u001b[39m\u001b[39m\"\u001b[39m]\n\u001b[0;32m   1441\u001b[0m \u001b[39mself\u001b[39m\u001b[39m.\u001b[39mhandles: IOHandles \u001b[39m|\u001b[39m \u001b[39mNone\u001b[39;00m \u001b[39m=\u001b[39m \u001b[39mNone\u001b[39;00m\n\u001b[1;32m-> 1442\u001b[0m \u001b[39mself\u001b[39m\u001b[39m.\u001b[39m_engine \u001b[39m=\u001b[39m \u001b[39mself\u001b[39;49m\u001b[39m.\u001b[39;49m_make_engine(f, \u001b[39mself\u001b[39;49m\u001b[39m.\u001b[39;49mengine)\n",
      "File \u001b[1;32mc:\\Users\\91892\\AppData\\Local\\Programs\\Python\\Python310\\lib\\site-packages\\pandas\\io\\parsers\\readers.py:1735\u001b[0m, in \u001b[0;36mTextFileReader._make_engine\u001b[1;34m(self, f, engine)\u001b[0m\n\u001b[0;32m   1733\u001b[0m     \u001b[39mif\u001b[39;00m \u001b[39m\"\u001b[39m\u001b[39mb\u001b[39m\u001b[39m\"\u001b[39m \u001b[39mnot\u001b[39;00m \u001b[39min\u001b[39;00m mode:\n\u001b[0;32m   1734\u001b[0m         mode \u001b[39m+\u001b[39m\u001b[39m=\u001b[39m \u001b[39m\"\u001b[39m\u001b[39mb\u001b[39m\u001b[39m\"\u001b[39m\n\u001b[1;32m-> 1735\u001b[0m \u001b[39mself\u001b[39m\u001b[39m.\u001b[39mhandles \u001b[39m=\u001b[39m get_handle(\n\u001b[0;32m   1736\u001b[0m     f,\n\u001b[0;32m   1737\u001b[0m     mode,\n\u001b[0;32m   1738\u001b[0m     encoding\u001b[39m=\u001b[39;49m\u001b[39mself\u001b[39;49m\u001b[39m.\u001b[39;49moptions\u001b[39m.\u001b[39;49mget(\u001b[39m\"\u001b[39;49m\u001b[39mencoding\u001b[39;49m\u001b[39m\"\u001b[39;49m, \u001b[39mNone\u001b[39;49;00m),\n\u001b[0;32m   1739\u001b[0m     compression\u001b[39m=\u001b[39;49m\u001b[39mself\u001b[39;49m\u001b[39m.\u001b[39;49moptions\u001b[39m.\u001b[39;49mget(\u001b[39m\"\u001b[39;49m\u001b[39mcompression\u001b[39;49m\u001b[39m\"\u001b[39;49m, \u001b[39mNone\u001b[39;49;00m),\n\u001b[0;32m   1740\u001b[0m     memory_map\u001b[39m=\u001b[39;49m\u001b[39mself\u001b[39;49m\u001b[39m.\u001b[39;49moptions\u001b[39m.\u001b[39;49mget(\u001b[39m\"\u001b[39;49m\u001b[39mmemory_map\u001b[39;49m\u001b[39m\"\u001b[39;49m, \u001b[39mFalse\u001b[39;49;00m),\n\u001b[0;32m   1741\u001b[0m     is_text\u001b[39m=\u001b[39;49mis_text,\n\u001b[0;32m   1742\u001b[0m     errors\u001b[39m=\u001b[39;49m\u001b[39mself\u001b[39;49m\u001b[39m.\u001b[39;49moptions\u001b[39m.\u001b[39;49mget(\u001b[39m\"\u001b[39;49m\u001b[39mencoding_errors\u001b[39;49m\u001b[39m\"\u001b[39;49m, \u001b[39m\"\u001b[39;49m\u001b[39mstrict\u001b[39;49m\u001b[39m\"\u001b[39;49m),\n\u001b[0;32m   1743\u001b[0m     storage_options\u001b[39m=\u001b[39;49m\u001b[39mself\u001b[39;49m\u001b[39m.\u001b[39;49moptions\u001b[39m.\u001b[39;49mget(\u001b[39m\"\u001b[39;49m\u001b[39mstorage_options\u001b[39;49m\u001b[39m\"\u001b[39;49m, \u001b[39mNone\u001b[39;49;00m),\n\u001b[0;32m   1744\u001b[0m )\n\u001b[0;32m   1745\u001b[0m \u001b[39massert\u001b[39;00m \u001b[39mself\u001b[39m\u001b[39m.\u001b[39mhandles \u001b[39mis\u001b[39;00m \u001b[39mnot\u001b[39;00m \u001b[39mNone\u001b[39;00m\n\u001b[0;32m   1746\u001b[0m f \u001b[39m=\u001b[39m \u001b[39mself\u001b[39m\u001b[39m.\u001b[39mhandles\u001b[39m.\u001b[39mhandle\n",
      "File \u001b[1;32mc:\\Users\\91892\\AppData\\Local\\Programs\\Python\\Python310\\lib\\site-packages\\pandas\\io\\common.py:856\u001b[0m, in \u001b[0;36mget_handle\u001b[1;34m(path_or_buf, mode, encoding, compression, memory_map, is_text, errors, storage_options)\u001b[0m\n\u001b[0;32m    851\u001b[0m \u001b[39melif\u001b[39;00m \u001b[39misinstance\u001b[39m(handle, \u001b[39mstr\u001b[39m):\n\u001b[0;32m    852\u001b[0m     \u001b[39m# Check whether the filename is to be opened in binary mode.\u001b[39;00m\n\u001b[0;32m    853\u001b[0m     \u001b[39m# Binary mode does not support 'encoding' and 'newline'.\u001b[39;00m\n\u001b[0;32m    854\u001b[0m     \u001b[39mif\u001b[39;00m ioargs\u001b[39m.\u001b[39mencoding \u001b[39mand\u001b[39;00m \u001b[39m\"\u001b[39m\u001b[39mb\u001b[39m\u001b[39m\"\u001b[39m \u001b[39mnot\u001b[39;00m \u001b[39min\u001b[39;00m ioargs\u001b[39m.\u001b[39mmode:\n\u001b[0;32m    855\u001b[0m         \u001b[39m# Encoding\u001b[39;00m\n\u001b[1;32m--> 856\u001b[0m         handle \u001b[39m=\u001b[39m \u001b[39mopen\u001b[39;49m(\n\u001b[0;32m    857\u001b[0m             handle,\n\u001b[0;32m    858\u001b[0m             ioargs\u001b[39m.\u001b[39;49mmode,\n\u001b[0;32m    859\u001b[0m             encoding\u001b[39m=\u001b[39;49mioargs\u001b[39m.\u001b[39;49mencoding,\n\u001b[0;32m    860\u001b[0m             errors\u001b[39m=\u001b[39;49merrors,\n\u001b[0;32m    861\u001b[0m             newline\u001b[39m=\u001b[39;49m\u001b[39m\"\u001b[39;49m\u001b[39m\"\u001b[39;49m,\n\u001b[0;32m    862\u001b[0m         )\n\u001b[0;32m    863\u001b[0m     \u001b[39melse\u001b[39;00m:\n\u001b[0;32m    864\u001b[0m         \u001b[39m# Binary mode\u001b[39;00m\n\u001b[0;32m    865\u001b[0m         handle \u001b[39m=\u001b[39m \u001b[39mopen\u001b[39m(handle, ioargs\u001b[39m.\u001b[39mmode)\n",
      "\u001b[1;31mFileNotFoundError\u001b[0m: [Errno 2] No such file or directory: 'new_data.csv'"
     ]
    }
   ],
   "source": [
    "# loading the csv data to a Pandas DataFrame\n",
    "silver_data = pd.read_csv('new_data.csv')"
   ]
  },
  {
   "cell_type": "code",
   "execution_count": null,
   "metadata": {},
   "outputs": [
    {
     "data": {
      "text/html": [
       "<div>\n",
       "<style scoped>\n",
       "    .dataframe tbody tr th:only-of-type {\n",
       "        vertical-align: middle;\n",
       "    }\n",
       "\n",
       "    .dataframe tbody tr th {\n",
       "        vertical-align: top;\n",
       "    }\n",
       "\n",
       "    .dataframe thead th {\n",
       "        text-align: right;\n",
       "    }\n",
       "</style>\n",
       "<table border=\"1\" class=\"dataframe\">\n",
       "  <thead>\n",
       "    <tr style=\"text-align: right;\">\n",
       "      <th></th>\n",
       "      <th>Date</th>\n",
       "      <th>SPX</th>\n",
       "      <th>GLD</th>\n",
       "      <th>USO</th>\n",
       "      <th>SLV</th>\n",
       "      <th>EUR/USD</th>\n",
       "    </tr>\n",
       "  </thead>\n",
       "  <tbody>\n",
       "    <tr>\n",
       "      <th>0</th>\n",
       "      <td>01-02-2008</td>\n",
       "      <td>1447.160034</td>\n",
       "      <td>84.860001</td>\n",
       "      <td>78.470001</td>\n",
       "      <td>15.180</td>\n",
       "      <td>1.471692</td>\n",
       "    </tr>\n",
       "    <tr>\n",
       "      <th>1</th>\n",
       "      <td>01-03-2008</td>\n",
       "      <td>1447.160034</td>\n",
       "      <td>85.570000</td>\n",
       "      <td>78.370003</td>\n",
       "      <td>15.285</td>\n",
       "      <td>1.474491</td>\n",
       "    </tr>\n",
       "    <tr>\n",
       "      <th>2</th>\n",
       "      <td>01-04-2008</td>\n",
       "      <td>1411.630005</td>\n",
       "      <td>85.129997</td>\n",
       "      <td>77.309998</td>\n",
       "      <td>15.167</td>\n",
       "      <td>1.475492</td>\n",
       "    </tr>\n",
       "    <tr>\n",
       "      <th>3</th>\n",
       "      <td>01-07-2008</td>\n",
       "      <td>1416.180054</td>\n",
       "      <td>84.769997</td>\n",
       "      <td>75.500000</td>\n",
       "      <td>15.053</td>\n",
       "      <td>1.468299</td>\n",
       "    </tr>\n",
       "    <tr>\n",
       "      <th>4</th>\n",
       "      <td>01-08-2008</td>\n",
       "      <td>1390.189941</td>\n",
       "      <td>86.779999</td>\n",
       "      <td>76.059998</td>\n",
       "      <td>15.590</td>\n",
       "      <td>1.557099</td>\n",
       "    </tr>\n",
       "  </tbody>\n",
       "</table>\n",
       "</div>"
      ],
      "text/plain": [
       "         Date          SPX        GLD        USO     SLV   EUR/USD\n",
       "0  01-02-2008  1447.160034  84.860001  78.470001  15.180  1.471692\n",
       "1  01-03-2008  1447.160034  85.570000  78.370003  15.285  1.474491\n",
       "2  01-04-2008  1411.630005  85.129997  77.309998  15.167  1.475492\n",
       "3  01-07-2008  1416.180054  84.769997  75.500000  15.053  1.468299\n",
       "4  01-08-2008  1390.189941  86.779999  76.059998  15.590  1.557099"
      ]
     },
     "execution_count": 34,
     "metadata": {},
     "output_type": "execute_result"
    }
   ],
   "source": [
    "# print first 5 rows in the dataframe\n",
    "silver_data.head()"
   ]
  },
  {
   "cell_type": "code",
   "execution_count": null,
   "metadata": {},
   "outputs": [
    {
     "data": {
      "text/html": [
       "<div>\n",
       "<style scoped>\n",
       "    .dataframe tbody tr th:only-of-type {\n",
       "        vertical-align: middle;\n",
       "    }\n",
       "\n",
       "    .dataframe tbody tr th {\n",
       "        vertical-align: top;\n",
       "    }\n",
       "\n",
       "    .dataframe thead th {\n",
       "        text-align: right;\n",
       "    }\n",
       "</style>\n",
       "<table border=\"1\" class=\"dataframe\">\n",
       "  <thead>\n",
       "    <tr style=\"text-align: right;\">\n",
       "      <th></th>\n",
       "      <th>Date</th>\n",
       "      <th>SPX</th>\n",
       "      <th>GLD</th>\n",
       "      <th>USO</th>\n",
       "      <th>SLV</th>\n",
       "      <th>EUR/USD</th>\n",
       "    </tr>\n",
       "  </thead>\n",
       "  <tbody>\n",
       "    <tr>\n",
       "      <th>4225</th>\n",
       "      <td>25-09-2023</td>\n",
       "      <td>1841.285580</td>\n",
       "      <td>129.706183</td>\n",
       "      <td>71.249520</td>\n",
       "      <td>13.198525</td>\n",
       "      <td>1.233159</td>\n",
       "    </tr>\n",
       "    <tr>\n",
       "      <th>4226</th>\n",
       "      <td>26-09-2023</td>\n",
       "      <td>2797.329168</td>\n",
       "      <td>126.729140</td>\n",
       "      <td>46.448135</td>\n",
       "      <td>24.758896</td>\n",
       "      <td>1.075114</td>\n",
       "    </tr>\n",
       "    <tr>\n",
       "      <th>4227</th>\n",
       "      <td>27-09-2023</td>\n",
       "      <td>1691.418297</td>\n",
       "      <td>83.450957</td>\n",
       "      <td>53.909334</td>\n",
       "      <td>44.625172</td>\n",
       "      <td>1.483336</td>\n",
       "    </tr>\n",
       "    <tr>\n",
       "      <th>4228</th>\n",
       "      <td>28-09-2023</td>\n",
       "      <td>2327.914202</td>\n",
       "      <td>126.688778</td>\n",
       "      <td>30.521861</td>\n",
       "      <td>21.799082</td>\n",
       "      <td>1.311898</td>\n",
       "    </tr>\n",
       "    <tr>\n",
       "      <th>4229</th>\n",
       "      <td>29-09-2023</td>\n",
       "      <td>1468.219123</td>\n",
       "      <td>81.586744</td>\n",
       "      <td>77.870222</td>\n",
       "      <td>16.725314</td>\n",
       "      <td>1.332160</td>\n",
       "    </tr>\n",
       "  </tbody>\n",
       "</table>\n",
       "</div>"
      ],
      "text/plain": [
       "            Date          SPX         GLD        USO        SLV   EUR/USD\n",
       "4225  25-09-2023  1841.285580  129.706183  71.249520  13.198525  1.233159\n",
       "4226  26-09-2023  2797.329168  126.729140  46.448135  24.758896  1.075114\n",
       "4227  27-09-2023  1691.418297   83.450957  53.909334  44.625172  1.483336\n",
       "4228  28-09-2023  2327.914202  126.688778  30.521861  21.799082  1.311898\n",
       "4229  29-09-2023  1468.219123   81.586744  77.870222  16.725314  1.332160"
      ]
     },
     "execution_count": 35,
     "metadata": {},
     "output_type": "execute_result"
    }
   ],
   "source": [
    "# print last 5 rows of the dataframe\n",
    "silver_data.tail()"
   ]
  },
  {
   "cell_type": "code",
   "execution_count": null,
   "metadata": {},
   "outputs": [
    {
     "data": {
      "text/plain": [
       "(4230, 6)"
      ]
     },
     "execution_count": 36,
     "metadata": {},
     "output_type": "execute_result"
    }
   ],
   "source": [
    "# number of rows and columns\n",
    "silver_data.shape"
   ]
  },
  {
   "cell_type": "code",
   "execution_count": null,
   "metadata": {},
   "outputs": [
    {
     "name": "stdout",
     "output_type": "stream",
     "text": [
      "<class 'pandas.core.frame.DataFrame'>\n",
      "RangeIndex: 4230 entries, 0 to 4229\n",
      "Data columns (total 6 columns):\n",
      " #   Column   Non-Null Count  Dtype  \n",
      "---  ------   --------------  -----  \n",
      " 0   Date     4230 non-null   object \n",
      " 1   SPX      4230 non-null   float64\n",
      " 2   GLD      4230 non-null   float64\n",
      " 3   USO      4230 non-null   float64\n",
      " 4   SLV      4230 non-null   float64\n",
      " 5   EUR/USD  4230 non-null   float64\n",
      "dtypes: float64(5), object(1)\n",
      "memory usage: 198.4+ KB\n"
     ]
    }
   ],
   "source": [
    "# getting some basic informations about the data\n",
    "silver_data.info()"
   ]
  },
  {
   "cell_type": "code",
   "execution_count": null,
   "metadata": {},
   "outputs": [
    {
     "data": {
      "text/plain": [
       "Date       0\n",
       "SPX        0\n",
       "GLD        0\n",
       "USO        0\n",
       "SLV        0\n",
       "EUR/USD    0\n",
       "dtype: int64"
      ]
     },
     "execution_count": 38,
     "metadata": {},
     "output_type": "execute_result"
    }
   ],
   "source": [
    "# checking the number of missing values\n",
    "silver_data.isnull().sum()"
   ]
  },
  {
   "cell_type": "code",
   "execution_count": null,
   "metadata": {},
   "outputs": [
    {
     "data": {
      "text/html": [
       "<div>\n",
       "<style scoped>\n",
       "    .dataframe tbody tr th:only-of-type {\n",
       "        vertical-align: middle;\n",
       "    }\n",
       "\n",
       "    .dataframe tbody tr th {\n",
       "        vertical-align: top;\n",
       "    }\n",
       "\n",
       "    .dataframe thead th {\n",
       "        text-align: right;\n",
       "    }\n",
       "</style>\n",
       "<table border=\"1\" class=\"dataframe\">\n",
       "  <thead>\n",
       "    <tr style=\"text-align: right;\">\n",
       "      <th></th>\n",
       "      <th>SPX</th>\n",
       "      <th>GLD</th>\n",
       "      <th>USO</th>\n",
       "      <th>SLV</th>\n",
       "      <th>EUR/USD</th>\n",
       "    </tr>\n",
       "  </thead>\n",
       "  <tbody>\n",
       "    <tr>\n",
       "      <th>count</th>\n",
       "      <td>4230.000000</td>\n",
       "      <td>4230.000000</td>\n",
       "      <td>4230.000000</td>\n",
       "      <td>4230.000000</td>\n",
       "      <td>4230.000000</td>\n",
       "    </tr>\n",
       "    <tr>\n",
       "      <th>mean</th>\n",
       "      <td>1700.837508</td>\n",
       "      <td>114.738583</td>\n",
       "      <td>37.725698</td>\n",
       "      <td>23.408102</td>\n",
       "      <td>1.269414</td>\n",
       "    </tr>\n",
       "    <tr>\n",
       "      <th>std</th>\n",
       "      <td>563.266296</td>\n",
       "      <td>21.506670</td>\n",
       "      <td>20.714108</td>\n",
       "      <td>9.324848</td>\n",
       "      <td>0.139102</td>\n",
       "    </tr>\n",
       "    <tr>\n",
       "      <th>min</th>\n",
       "      <td>676.530029</td>\n",
       "      <td>70.000000</td>\n",
       "      <td>7.960000</td>\n",
       "      <td>8.850000</td>\n",
       "      <td>1.000043</td>\n",
       "    </tr>\n",
       "    <tr>\n",
       "      <th>25%</th>\n",
       "      <td>1238.170437</td>\n",
       "      <td>98.322317</td>\n",
       "      <td>20.782631</td>\n",
       "      <td>15.910000</td>\n",
       "      <td>1.138823</td>\n",
       "    </tr>\n",
       "    <tr>\n",
       "      <th>50%</th>\n",
       "      <td>1669.848745</td>\n",
       "      <td>114.870436</td>\n",
       "      <td>35.590680</td>\n",
       "      <td>19.930009</td>\n",
       "      <td>1.288874</td>\n",
       "    </tr>\n",
       "    <tr>\n",
       "      <th>75%</th>\n",
       "      <td>2121.804447</td>\n",
       "      <td>124.967500</td>\n",
       "      <td>47.840329</td>\n",
       "      <td>30.776877</td>\n",
       "      <td>1.372360</td>\n",
       "    </tr>\n",
       "    <tr>\n",
       "      <th>max</th>\n",
       "      <td>2872.870117</td>\n",
       "      <td>184.589996</td>\n",
       "      <td>117.480003</td>\n",
       "      <td>47.259998</td>\n",
       "      <td>1.598798</td>\n",
       "    </tr>\n",
       "  </tbody>\n",
       "</table>\n",
       "</div>"
      ],
      "text/plain": [
       "               SPX          GLD          USO          SLV      EUR/USD\n",
       "count  4230.000000  4230.000000  4230.000000  4230.000000  4230.000000\n",
       "mean   1700.837508   114.738583    37.725698    23.408102     1.269414\n",
       "std     563.266296    21.506670    20.714108     9.324848     0.139102\n",
       "min     676.530029    70.000000     7.960000     8.850000     1.000043\n",
       "25%    1238.170437    98.322317    20.782631    15.910000     1.138823\n",
       "50%    1669.848745   114.870436    35.590680    19.930009     1.288874\n",
       "75%    2121.804447   124.967500    47.840329    30.776877     1.372360\n",
       "max    2872.870117   184.589996   117.480003    47.259998     1.598798"
      ]
     },
     "execution_count": 39,
     "metadata": {},
     "output_type": "execute_result"
    }
   ],
   "source": [
    "# getting the statistical measures of the data\n",
    "silver_data.describe()"
   ]
  },
  {
   "cell_type": "markdown",
   "metadata": {},
   "source": [
    "Correlation:\n",
    "1. Positive Correlation\n",
    "2. Negative Correlation"
   ]
  },
  {
   "cell_type": "code",
   "execution_count": null,
   "metadata": {},
   "outputs": [
    {
     "name": "stderr",
     "output_type": "stream",
     "text": [
      "C:\\Users\\91892\\AppData\\Local\\Temp\\ipykernel_12784\\660943657.py:1: FutureWarning: The default value of numeric_only in DataFrame.corr is deprecated. In a future version, it will default to False. Select only valid columns or specify the value of numeric_only to silence this warning.\n",
      "  correlation = silver_data.corr()\n"
     ]
    }
   ],
   "source": [
    "correlation = silver_data.corr()"
   ]
  },
  {
   "cell_type": "code",
   "execution_count": null,
   "metadata": {},
   "outputs": [
    {
     "data": {
      "text/plain": [
       "<AxesSubplot:>"
      ]
     },
     "execution_count": 41,
     "metadata": {},
     "output_type": "execute_result"
    },
    {
     "data": {
      "image/png": "[encoded data removed]",
      "text/plain": [
       "<Figure size 800x800 with 2 Axes>"
      ]
     },
     "metadata": {},
     "output_type": "display_data"
    }
   ],
   "source": [
    "# constructing a heatmap to understand the correlatiom\n",
    "plt.figure(figsize = (8,8))\n",
    "sns.heatmap(correlation, cbar=True, square=False, fmt='.1f',annot=True, annot_kws={'size':8}, cmap='Pastel1')"
   ]
  },
  {
   "cell_type": "code",
   "execution_count": null,
   "metadata": {},
   "outputs": [
    {
     "name": "stdout",
     "output_type": "stream",
     "text": [
      "SPX       -0.089362\n",
      "GLD        0.230473\n",
      "USO        0.189571\n",
      "SLV        1.000000\n",
      "EUR/USD    0.089860\n",
      "Name: SLV, dtype: float64\n"
     ]
    }
   ],
   "source": [
    "# correlation values of SLV\n",
    "print(correlation['SLV'])"
   ]
  },
  {
   "cell_type": "code",
   "execution_count": null,
   "metadata": {},
   "outputs": [
    {
     "name": "stderr",
     "output_type": "stream",
     "text": [
      "C:\\Users\\91892\\AppData\\Local\\Temp\\ipykernel_12784\\4177042700.py:2: UserWarning: \n",
      "\n",
      "`distplot` is a deprecated function and will be removed in seaborn v0.14.0.\n",
      "\n",
      "Please adapt your code to use either `displot` (a figure-level function with\n",
      "similar flexibility) or `histplot` (an axes-level function for histograms).\n",
      "\n",
      "For a guide to updating your code to use the new functions, please see\n",
      "https://gist.github.com/mwaskom/de44147ed2974457ad6372750bbe5751\n",
      "\n",
      "  sns.distplot(silver_data['SLV'],color='blue')\n"
     ]
    },
    {
     "data": {
      "text/plain": [
       "<AxesSubplot:xlabel='SLV', ylabel='Density'>"
      ]
     },
     "execution_count": 43,
     "metadata": {},
     "output_type": "execute_result"
    },
    {
     "data": {
      "image/png": "[encoded data removed]",
      "text/plain": [
       "<Figure size 640x480 with 1 Axes>"
      ]
     },
     "metadata": {},
     "output_type": "display_data"
    }
   ],
   "source": [
    "# checking the distribution of the SLV Price\n",
    "sns.distplot(silver_data['SLV'],color='blue')"
   ]
  },
  {
   "cell_type": "markdown",
   "metadata": {},
   "source": [
    "Splitting the Features and Target"
   ]
  },
  {
   "cell_type": "code",
   "execution_count": null,
   "metadata": {},
   "outputs": [],
   "source": [
    "X = silver_data.drop(['Date','SLV'],axis=1)\n",
    "Y = silver_data['SLV']"
   ]
  },
  {
   "cell_type": "code",
   "execution_count": null,
   "metadata": {},
   "outputs": [
    {
     "name": "stdout",
     "output_type": "stream",
     "text": [
      "              SPX         GLD        USO   EUR/USD\n",
      "0     1447.160034   84.860001  78.470001  1.471692\n",
      "1     1447.160034   85.570000  78.370003  1.474491\n",
      "2     1411.630005   85.129997  77.309998  1.475492\n",
      "3     1416.180054   84.769997  75.500000  1.468299\n",
      "4     1390.189941   86.779999  76.059998  1.557099\n",
      "...           ...         ...        ...       ...\n",
      "4225  1841.285580  129.706183  71.249520  1.233159\n",
      "4226  2797.329168  126.729140  46.448135  1.075114\n",
      "4227  1691.418297   83.450957  53.909334  1.483336\n",
      "4228  2327.914202  126.688778  30.521861  1.311898\n",
      "4229  1468.219123   81.586744  77.870222  1.332160\n",
      "\n",
      "[4230 rows x 4 columns]\n"
     ]
    }
   ],
   "source": [
    "print(X)"
   ]
  },
  {
   "cell_type": "code",
   "execution_count": null,
   "metadata": {},
   "outputs": [
    {
     "name": "stdout",
     "output_type": "stream",
     "text": [
      "0       15.180000\n",
      "1       15.285000\n",
      "2       15.167000\n",
      "3       15.053000\n",
      "4       15.590000\n",
      "          ...    \n",
      "4225    13.198525\n",
      "4226    24.758896\n",
      "4227    44.625172\n",
      "4228    21.799082\n",
      "4229    16.725314\n",
      "Name: SLV, Length: 4230, dtype: float64\n"
     ]
    }
   ],
   "source": [
    "print(Y)"
   ]
  },
  {
   "cell_type": "markdown",
   "metadata": {},
   "source": [
    "Splitting into Training data and Test Data"
   ]
  },
  {
   "cell_type": "code",
   "execution_count": null,
   "metadata": {},
   "outputs": [],
   "source": [
    "X_train, X_test, Y_train, Y_test = train_test_split(X, Y, test_size = 0.2, random_state=2)"
   ]
  },
  {
   "cell_type": "markdown",
   "metadata": {},
   "source": [
    "Model Training: Random Forest Regressor"
   ]
  },
  {
   "cell_type": "code",
   "execution_count": null,
   "metadata": {},
   "outputs": [],
   "source": [
    "regressor = RandomForestRegressor(n_estimators=100)"
   ]
  },
  {
   "cell_type": "code",
   "execution_count": null,
   "metadata": {},
   "outputs": [
    {
     "data": {
      "text/html": [
       "<style>#sk-container-id-2 {color: black;background-color: white;}#sk-container-id-2 pre{padding: 0;}#sk-container-id-2 div.sk-toggleable {background-color: white;}#sk-container-id-2 label.sk-toggleable__label {cursor: pointer;display: block;width: 100%;margin-bottom: 0;padding: 0.3em;box-sizing: border-box;text-align: center;}#sk-container-id-2 label.sk-toggleable__label-arrow:before {content: \"▸\";float: left;margin-right: 0.25em;color: #696969;}#sk-container-id-2 label.sk-toggleable__label-arrow:hover:before {color: black;}#sk-container-id-2 div.sk-estimator:hover label.sk-toggleable__label-arrow:before {color: black;}#sk-container-id-2 div.sk-toggleable__content {max-height: 0;max-width: 0;overflow: hidden;text-align: left;background-color: #f0f8ff;}#sk-container-id-2 div.sk-toggleable__content pre {margin: 0.2em;color: black;border-radius: 0.25em;background-color: #f0f8ff;}#sk-container-id-2 input.sk-toggleable__control:checked~div.sk-toggleable__content {max-height: 200px;max-width: 100%;overflow: auto;}#sk-container-id-2 input.sk-toggleable__control:checked~label.sk-toggleable__label-arrow:before {content: \"▾\";}#sk-container-id-2 div.sk-estimator input.sk-toggleable__control:checked~label.sk-toggleable__label {background-color: #d4ebff;}#sk-container-id-2 div.sk-label input.sk-toggleable__control:checked~label.sk-toggleable__label {background-color: #d4ebff;}#sk-container-id-2 input.sk-hidden--visually {border: 0;clip: rect(1px 1px 1px 1px);clip: rect(1px, 1px, 1px, 1px);height: 1px;margin: -1px;overflow: hidden;padding: 0;position: absolute;width: 1px;}#sk-container-id-2 div.sk-estimator {font-family: monospace;background-color: #f0f8ff;border: 1px dotted black;border-radius: 0.25em;box-sizing: border-box;margin-bottom: 0.5em;}#sk-container-id-2 div.sk-estimator:hover {background-color: #d4ebff;}#sk-container-id-2 div.sk-parallel-item::after {content: \"\";width: 100%;border-bottom: 1px solid gray;flex-grow: 1;}#sk-container-id-2 div.sk-label:hover label.sk-toggleable__label {background-color: #d4ebff;}#sk-container-id-2 div.sk-serial::before {content: \"\";position: absolute;border-left: 1px solid gray;box-sizing: border-box;top: 0;bottom: 0;left: 50%;z-index: 0;}#sk-container-id-2 div.sk-serial {display: flex;flex-direction: column;align-items: center;background-color: white;padding-right: 0.2em;padding-left: 0.2em;position: relative;}#sk-container-id-2 div.sk-item {position: relative;z-index: 1;}#sk-container-id-2 div.sk-parallel {display: flex;align-items: stretch;justify-content: center;background-color: white;position: relative;}#sk-container-id-2 div.sk-item::before, #sk-container-id-2 div.sk-parallel-item::before {content: \"\";position: absolute;border-left: 1px solid gray;box-sizing: border-box;top: 0;bottom: 0;left: 50%;z-index: -1;}#sk-container-id-2 div.sk-parallel-item {display: flex;flex-direction: column;z-index: 1;position: relative;background-color: white;}#sk-container-id-2 div.sk-parallel-item:first-child::after {align-self: flex-end;width: 50%;}#sk-container-id-2 div.sk-parallel-item:last-child::after {align-self: flex-start;width: 50%;}#sk-container-id-2 div.sk-parallel-item:only-child::after {width: 0;}#sk-container-id-2 div.sk-dashed-wrapped {border: 1px dashed gray;margin: 0 0.4em 0.5em 0.4em;box-sizing: border-box;padding-bottom: 0.4em;background-color: white;}#sk-container-id-2 div.sk-label label {font-family: monospace;font-weight: bold;display: inline-block;line-height: 1.2em;}#sk-container-id-2 div.sk-label-container {text-align: center;}#sk-container-id-2 div.sk-container {/* jupyter's `normalize.less` sets `[hidden] { display: none; }` but bootstrap.min.css set `[hidden] { display: none !important; }` so we also need the `!important` here to be able to override the default hidden behavior on the sphinx rendered scikit-learn.org. See: https://github.com/scikit-learn/scikit-learn/issues/21755 */display: inline-block !important;position: relative;}#sk-container-id-2 div.sk-text-repr-fallback {display: none;}</style><div id=\"sk-container-id-2\" class=\"sk-top-container\"><div class=\"sk-text-repr-fallback\"><pre>RandomForestRegressor()</pre><b>In a Jupyter environment, please rerun this cell to show the HTML representation or trust the notebook. <br />On GitHub, the HTML representation is unable to render, please try loading this page with nbviewer.org.</b></div><div class=\"sk-container\" hidden><div class=\"sk-item\"><div class=\"sk-estimator sk-toggleable\"><input class=\"sk-toggleable__control sk-hidden--visually\" id=\"sk-estimator-id-2\" type=\"checkbox\" checked><label for=\"sk-estimator-id-2\" class=\"sk-toggleable__label sk-toggleable__label-arrow\">RandomForestRegressor</label><div class=\"sk-toggleable__content\"><pre>RandomForestRegressor()</pre></div></div></div></div></div>"
      ],
      "text/plain": [
       "RandomForestRegressor()"
      ]
     },
     "execution_count": 49,
     "metadata": {},
     "output_type": "execute_result"
    }
   ],
   "source": [
    "# training the model\n",
    "regressor.fit(X_train,Y_train)"
   ]
  },
  {
   "cell_type": "code",
   "execution_count": null,
   "metadata": {},
   "outputs": [
    {
     "data": {
      "text/plain": [
       "0.9159577428352238"
      ]
     },
     "execution_count": 50,
     "metadata": {},
     "output_type": "execute_result"
    }
   ],
   "source": [
    "#Checking Accuracy\n",
    "regressor.score(X_train,Y_train)"
   ]
  },
  {
   "cell_type": "markdown",
   "metadata": {},
   "source": [
    "Model Evaluation"
   ]
  },
  {
   "cell_type": "code",
   "execution_count": null,
   "metadata": {},
   "outputs": [],
   "source": [
    "# prediction on Test Data\n",
    "test_data_prediction = regressor.predict(X_test)"
   ]
  },
  {
   "cell_type": "code",
   "execution_count": null,
   "metadata": {},
   "outputs": [
    {
     "name": "stdout",
     "output_type": "stream",
     "text": [
      "[33.57399959 31.15420015 36.83729964 24.35736309 13.73304475 14.65350713\n",
      " 20.53509287 31.51490049 21.07547836 16.07638186 28.22834959 15.30317757\n",
      " 26.33038487 22.16800004 19.66508027 23.10286059 11.71783212 33.63930071\n",
      " 24.6180502  15.98764062 24.64898372 28.39607491 30.96523347 21.09095881\n",
      " 17.90530081 18.94599996 31.72869952 15.5579     28.77857378 21.64398902\n",
      " 18.92419994 31.40340025 31.84499989 30.26540036 19.0888534  24.83234957\n",
      " 27.39626285 26.65339728 22.09749834 17.00869994 16.63379957 13.29893301\n",
      " 25.37750744 21.27630587 30.38818364 15.67129031 28.64124754 17.24259997\n",
      " 28.99291833 29.70040002 15.2873452  17.53006928 16.33257486 15.9245\n",
      " 16.88805599 27.28250018 24.25038833 16.99049983 25.40143299 32.11027908\n",
      " 17.19340004 30.22050575 32.51596296 14.55566759 27.43141527 16.06930001\n",
      " 18.16306725 16.1594287  25.42116541 13.92209834 32.62450133 27.92339027\n",
      " 17.58620885 16.58160007 27.3999488  22.88578841 27.65006968 17.99970968\n",
      " 23.95597225 38.07070015 19.0348227  20.02729989 25.44754398 18.05354823\n",
      " 18.32631837 25.44496869 20.8068411  27.99686122 29.28840032 15.32730795\n",
      " 16.04699992 26.89880006 29.36431538 15.7094     25.5092033  29.22869989\n",
      " 16.59280029 25.6408091  22.03692052 29.58999446 31.94978761 14.66211547\n",
      " 30.6065898  13.70139228 15.95829999 29.7647005  15.53089993 28.19049998\n",
      " 30.73100064 18.14280034 19.8074304  38.95739986 19.37235785 26.47549941\n",
      " 17.82801488 19.19149967 17.02787014 26.8166714  26.9651885  16.23160023\n",
      " 16.54460722 20.41229958 33.78989942 17.1906001  27.91530638 15.335556\n",
      " 16.24799959 24.82360854 24.84174842 29.88929997 28.99919025 26.73177233\n",
      " 28.99868052 24.8660735  27.60209467 28.60970767 32.88697571 32.92690012\n",
      " 27.05482999 31.06614686 31.38030065 16.57243914 22.48140592 14.08585467\n",
      " 29.21811934 13.35044    15.63697085 15.77255584 29.23520017 26.44358297\n",
      " 23.0127997  30.31377433 35.83999897 26.77182578 30.95360858 29.29969968\n",
      " 31.19349969 29.26233552 18.30443294 17.89419    11.10793043 19.30089994\n",
      " 24.81602645 39.4572998  19.99905002 32.46089032 16.67890006 26.58627121\n",
      " 19.85341541 25.24909821 27.62279455 24.87721686 15.3567111  30.91667699\n",
      " 20.49540081 24.72085225 28.07632217 15.94629868 27.93687562 16.38690012\n",
      " 17.28145165 20.54520016 11.79223236 32.78375506 19.50801033 17.3781\n",
      " 14.4246     28.15621143 24.84282293 29.24936227 31.7363001  28.4496663\n",
      " 18.37030033 28.81743503 28.70076132 18.17190969 18.84400034 28.50846206\n",
      " 32.56920012 18.03070024 28.93731517 27.61460012 22.84850064 15.84128705\n",
      " 31.87679958 31.08740006 22.32416468 19.35050007 16.59145993 27.06066386\n",
      " 19.71436371 23.04279488 30.48058452 15.5799     28.01070013 16.1016882\n",
      " 22.70871342 18.13695572 12.9119     29.1657253  17.31380026 31.63709362\n",
      " 28.5059871  26.68454622 19.90456224 17.19447855 22.8454685  27.19778649\n",
      " 28.14722472 33.58180041 16.53882451 24.74514427 18.78671246 23.29605166\n",
      " 18.98960006 16.24297646 29.32744387 28.17460808 21.61914649 30.42812359\n",
      " 26.43319973 13.78805324 17.9487262  20.59662124 15.41512786 24.37317022\n",
      " 24.04588189 30.24970605 14.56965928  9.4291     22.44040971 20.95439955\n",
      " 15.49415197 19.96598034 26.06241419 16.45107761 11.47579451 17.75389579\n",
      " 27.06709995 25.82121738 13.1991     15.01493875 18.21325977 17.04839997\n",
      " 30.32440029 25.22363858 12.39558195 15.5683043  22.72490096 25.90031691\n",
      " 15.78       23.2494575  13.71883764 31.9899998  27.53014672 32.2027203\n",
      " 23.52127539 18.80690034 22.79477812 28.15570004 25.88101725 16.60350153\n",
      " 27.61509991 28.08985308 16.26888106 16.43689406 28.0267948  24.18745084\n",
      " 19.55939973 30.20130052 16.98725368 32.5228566  24.5142411  15.67889832\n",
      " 19.95564555 16.6792     23.23459981 15.77740001 17.60422803 17.99382137\n",
      " 29.62132861 26.91221537 30.39386351 14.52867572 30.24900893 27.15555715\n",
      " 16.13749979 29.9263792  29.76315258 21.36429852 36.1953995  29.90739956\n",
      " 25.15730941 18.85229997 32.80540036 16.10580003 26.98065527 24.20310349\n",
      " 28.89384147 23.69185225 43.73450123 25.60324773 44.58820037 22.55158943\n",
      " 19.28849959 16.28600023 28.16556713 26.98509965 25.63487476 24.16032667\n",
      " 17.98120036 32.65125041 26.02556507 15.38540002 38.64290026 12.1569\n",
      " 27.39456942 22.45055484 20.00739981 24.02685639 21.85310008 25.72012847\n",
      " 27.62037809 24.64611415 13.78095677 26.91758211 15.4905     24.73022951\n",
      " 19.97704119 19.2054954  16.70029056 15.95970009 26.16861465 19.05347907\n",
      " 18.0871664  27.85461047 16.25881065 30.04916752 15.2299     26.32982612\n",
      " 29.86082467 12.1149     20.89710848 30.56028901 15.61432795 27.60724383\n",
      " 26.56630533 24.03081416 16.56159992 28.84150043 27.73690018 17.30406089\n",
      " 16.05579994 14.23197656 19.49287993 13.27313301 29.0497303  35.51389941\n",
      " 28.99213757 21.80612901 29.17717979 31.50709977 18.35450064 29.12697237\n",
      " 23.33416061 17.22662026 25.84506579 24.52091223 26.92397733 29.90967485\n",
      " 30.08545202 28.07454263 31.86899978 28.03447202 19.53520622 28.522342\n",
      " 29.40369979 16.9924     30.98434568 31.5827827  16.11788945 19.05169964\n",
      " 34.43279962 16.0677995  16.61159013 18.63809954 16.71805087 18.11252453\n",
      " 23.31512632 16.91373001 18.62700032 29.36752469 12.45691767 20.59757798\n",
      " 25.89098842 18.73449496 23.14619262 31.33349878 31.2829998  29.17824959\n",
      " 27.33340041 27.67857714 14.74494645 24.0197507  18.07772247 23.38401175\n",
      " 18.46091545 18.19743614 19.05369267 27.42039996 15.25587757 23.87557867\n",
      " 30.25440024 15.70590001 15.80280039 27.22329021 30.75080001 29.82708332\n",
      " 34.71460068 13.5797     13.80861219 18.95440011 18.03234473 28.60494039\n",
      " 29.51860353 16.41014507 30.40477415 31.9027997  16.66720006 28.15910004\n",
      " 24.82703998 16.08638132 14.31549339 18.03440008 26.64277977 19.83971283\n",
      " 16.33561065 21.61991846 29.13782525 28.01143444 19.41139936 20.64309971\n",
      " 19.12779525 28.69383033 17.09223777 34.90615294 14.12928095 30.14067641\n",
      " 36.7436007  16.14964292 17.32487007 16.48740064 27.37981498 30.49540015\n",
      " 23.22957298 26.73721758 18.76749979 17.0089466  16.6166798  16.63714977\n",
      " 17.49864906 15.92385615 27.43116935 17.69615773 20.68237761 33.08930008\n",
      " 31.17259995 20.63779432 15.47587441 26.99827061 15.73037656 17.63060047\n",
      " 25.798281   19.40763909 14.79638379 18.1108003  13.82945113 16.67782012\n",
      " 25.11817651 36.47059909 15.59901236 14.62840728 31.19764522 25.53160044\n",
      " 17.36519584 25.88320885 27.10143717 13.97707191 15.94300001 17.32988009\n",
      " 21.93722256 20.70377844 31.57070021 24.38126259 28.55834902 29.11308033\n",
      " 31.13452256 13.76265677 26.45703964 17.40876731 24.98451492 37.95140013\n",
      " 17.96473277 28.9241306  15.00857479 15.65510939 24.2658603  27.94910017\n",
      " 25.79876652 30.69032747 17.73561226 19.2958748  26.97222881 24.83290014\n",
      " 30.46189652 15.9207427  29.38890015 26.87900053 16.29520011 28.0648727\n",
      " 27.53730027 33.24217971 23.26276702 27.58639829 26.5159691  24.31177083\n",
      " 30.57029293 25.14381106 30.36061355 17.40848524 15.7944519  16.33243201\n",
      " 28.45303142 23.72660847 25.4033414  14.60433915 19.16167652 29.70085246\n",
      " 28.09256469 28.97273683 15.39300007 16.99269034 34.58239972 19.57779465\n",
      " 17.52137033 30.04859977 19.31670001 30.39156561 14.18812543 33.31530051\n",
      " 23.1808544  20.04159978 25.26645263 32.54868746 27.77579999 26.72260055\n",
      " 22.18853882 15.74794611 16.31032433 16.20771533 11.189      27.52300001\n",
      " 17.44908951 17.78065379 16.031171   13.32346727 12.3334     16.27870517\n",
      " 22.63509721 25.63629748 15.54839994 14.08944638 24.37001018 16.67944006\n",
      " 31.28551661 19.23353203 20.8331997  16.91200014 19.05865893 13.4448\n",
      " 16.50049965 25.29710122 28.69882642 23.01200004 28.54774752 16.15620788\n",
      " 16.7336     26.58177022 13.3479     22.0620234  33.3498771  32.3634869\n",
      " 21.84400009 25.46323418 16.0188998  26.92569847 26.81061563 22.74142696\n",
      " 19.14880587 13.44758    15.09068682 27.9268003  30.71060022 17.81716967\n",
      " 13.90935329 11.29270335 18.24160022 23.00570503 28.18028664 27.2152501\n",
      " 15.32074056 19.27530024 31.3417997  14.45790702 17.77632034 17.10410007\n",
      " 27.7447864  20.5331393  28.44226448 28.0157316  20.27687649 29.19158777\n",
      " 18.30170055 15.1709     33.30319988 12.523      13.60235677 15.58034302\n",
      " 16.39320569 18.64630038 15.14199999 22.65207311 18.09529339 31.97939951\n",
      " 14.45332393 28.32597198 27.8634582  16.03309999 14.49754043 16.83980005\n",
      " 16.46670248 16.69480006 17.90240003 11.69855934 20.62159026 30.14597359\n",
      " 16.04530017 15.81730003 29.59796186 22.65245533 16.5141603  17.3343154\n",
      " 20.7956657  27.89010023 19.36841071 16.72859999 15.9120525  15.5234\n",
      " 21.93032371 21.08309971 23.98925968 27.83427675 23.59267832 23.44929301\n",
      " 23.6561133  17.05772098 32.57270034 22.64008392 27.16448443 16.11571335\n",
      " 22.96539703 16.90840009 26.65184628 16.00594596 27.26328079 16.86940016\n",
      " 31.90271804 14.0256     15.09810326 21.27389974 18.95000011 27.96834438\n",
      " 20.05854131 30.28258973 15.61519997 12.9596     31.2938918  20.20410284\n",
      " 26.50659981 15.28334338 27.96066568 28.77374313 18.91928894 31.45354713\n",
      " 22.00136912 26.91584424 27.1028995  17.09250003 29.77098171 25.61844206\n",
      " 24.3632926  21.58989255 23.58476826 21.30482438  9.4634     29.76726451\n",
      " 14.14331967 20.68679999 30.86682704 20.03579961 26.59446534 20.19914672\n",
      " 25.92822442 17.67716826 19.65306908 18.36545257 18.23390429 24.86876627\n",
      " 23.26635662 17.95848336 25.9595829  28.13774146 17.25552168 30.1432191\n",
      " 24.91432487 16.27050456 24.98903839 28.00464304 20.87679971 27.94234714\n",
      " 18.97085213 20.24311112 32.63949998 24.35213378 16.51089981 29.33219682\n",
      " 22.47429734 27.14779962 14.44479009 23.14098654 26.84289468 31.36163756\n",
      " 15.82990001 18.72154411 23.93684051 17.85839972 25.90539019 34.1432996\n",
      " 15.89283334 32.63216348 30.91800074 23.94580027 22.43432296 29.72840032\n",
      " 17.39220005 38.82539968 19.13547247 34.43867768 26.24405182 26.86853705\n",
      " 27.55804181 25.81174773 30.66980046 23.08420019 33.00410007 25.36731636\n",
      " 31.69089989 27.81354728 39.14059948 22.74071494 19.05967636 16.00452267\n",
      " 27.85634453 17.99103674 15.97493023 13.4374     32.14766499 17.0076614\n",
      " 28.98039357 28.03830038 23.10367571 29.06436717 19.21940026 20.97143099\n",
      " 17.91920078 15.18385714 16.14500009 37.7396995  26.6714069  25.45753843\n",
      " 19.00670011  9.74999417 25.61456659 11.56090395 16.55302395 29.11269971\n",
      " 15.81430002 29.7611997  32.39116707 27.16463013 12.72461    16.73970003\n",
      " 19.56670622 26.8918656  29.30078229 29.89475058 29.7548201  16.37852017\n",
      " 30.90310023 23.70684812 24.7171822  18.3714486  16.32900008 20.89039994\n",
      " 19.59885396 16.26119984 30.8800468  16.96006554 16.14549997 32.26793461\n",
      " 31.85153645 26.71561052 27.08382296 25.71669238 31.26320009 27.61337197]\n"
     ]
    }
   ],
   "source": [
    "print(test_data_prediction)"
   ]
  },
  {
   "cell_type": "code",
   "execution_count": null,
   "metadata": {},
   "outputs": [
    {
     "name": "stdout",
     "output_type": "stream",
     "text": [
      "R squared error :  0.3999014490204784\n"
     ]
    }
   ],
   "source": [
    "# R squared error\n",
    "error_score = metrics.r2_score(Y_test, test_data_prediction)\n",
    "print(\"R squared error : \", error_score)"
   ]
  },
  {
   "cell_type": "markdown",
   "metadata": {},
   "source": [
    "Compare the Actual Values and Predicted Values in a Plot"
   ]
  },
  {
   "cell_type": "code",
   "execution_count": null,
   "metadata": {},
   "outputs": [],
   "source": [
    "Y_test = list(Y_test)"
   ]
  },
  {
   "cell_type": "code",
   "execution_count": null,
   "metadata": {},
   "outputs": [
    {
     "data": {
      "image/png": "[encoded data removed]",
      "text/plain": [
       "<Figure size 640x480 with 1 Axes>"
      ]
     },
     "metadata": {},
     "output_type": "display_data"
    }
   ],
   "source": [
    "plt.plot(Y_test, color='blue', label = 'Actual Value')\n",
    "plt.plot(test_data_prediction, color='yellow', label='Predicted Value')\n",
    "plt.title('Actual Price vs Predicted Price')\n",
    "plt.xlabel('Number of values')\n",
    "plt.ylabel('SLV Price')\n",
    "plt.legend()\n",
    "plt.show()"
   ]
  },
  {
   "cell_type": "markdown",
   "metadata": {},
   "source": [
    "building a predictive system"
   ]
  },
  {
   "cell_type": "code",
   "execution_count": null,
   "metadata": {},
   "outputs": [
    {
     "name": "stdout",
     "output_type": "stream",
     "text": [
      "[18.1276677]\n",
      "The insurance cost is USD  18.127667695800014\n"
     ]
    },
    {
     "name": "stderr",
     "output_type": "stream",
     "text": [
      "c:\\Users\\91892\\AppData\\Local\\Programs\\Python\\Python310\\lib\\site-packages\\sklearn\\base.py:450: UserWarning: X does not have valid feature names, but RandomForestRegressor was fitted with feature names\n",
      "  warnings.warn(\n"
     ]
    }
   ],
   "source": [
    "input_data = (1416.25,89.54, 74.25, 1.4869)\n",
    "\n",
    "# changing input_data to a numpy array\n",
    "input_data_as_numpy_array = np.asarray(input_data)\n",
    "\n",
    "# reshape the array\n",
    "input_data_reshaped = input_data_as_numpy_array.reshape(1,-1)\n",
    "\n",
    "prediction = regressor.predict(input_data_reshaped)\n",
    "print(prediction)\n",
    "\n",
    "print('The insurance cost is USD ', prediction[0])"
   ]
  },
  {
   "cell_type": "code",
   "execution_count": null,
   "metadata": {},
   "outputs": [],
   "source": [
    "import pickle"
   ]
  },
  {
   "cell_type": "code",
   "execution_count": null,
   "metadata": {},
   "outputs": [],
   "source": [
    "pickle.dump(regressor,open(\"silver_predictor.pkl\",\"wb\"))"
   ]
  },
  {
   "cell_type": "code",
   "execution_count": null,
   "metadata": {},
   "outputs": [],
   "source": [
    "regressor = pickle.load(open('silver_predictor.pkl',\"rb\"))"
   ]
  },
  {
   "cell_type": "code",
   "execution_count": null,
   "metadata": {},
   "outputs": [
    {
     "ename": "NameError",
     "evalue": "name 'regressor' is not defined",
     "output_type": "error",
     "traceback": [
      "\u001b[1;31m---------------------------------------------------------------------------\u001b[0m",
      "\u001b[1;31mNameError\u001b[0m                                 Traceback (most recent call last)",
      "\u001b[1;32mc:\\Users\\91892\\Desktop\\Silver Price Prediction\\Gold_Price_Prediction\\Gold_Price_Prediction\\silver_pp.ipynb Cell 36\u001b[0m line \u001b[0;36m1\n\u001b[1;32m----> <a href='vscode-notebook-cell:/c%3A/Users/91892/Desktop/Silver%20Price%20Prediction/Gold_Price_Prediction/Gold_Price_Prediction/silver_pp.ipynb#X50sZmlsZQ%3D%3D?line=0'>1</a>\u001b[0m predict \u001b[39m=\u001b[39m regressor\u001b[39m.\u001b[39mpredict(input_data_reshaped)[\u001b[39m0\u001b[39m]\n",
      "\u001b[1;31mNameError\u001b[0m: name 'regressor' is not defined"
     ]
    }
   ],
   "source": [
    "predict = regressor.predict(input_data_reshaped)[0]"
   ]
  },
  {
   "cell_type": "code",
   "execution_count": null,
   "metadata": {},
   "outputs": [
    {
     "ename": "NameError",
     "evalue": "name 'predict' is not defined",
     "output_type": "error",
     "traceback": [
      "\u001b[1;31m---------------------------------------------------------------------------\u001b[0m",
      "\u001b[1;31mNameError\u001b[0m                                 Traceback (most recent call last)",
      "\u001b[1;32mc:\\Users\\91892\\Desktop\\Silver Price Prediction\\Gold_Price_Prediction\\Gold_Price_Prediction\\silver_pp.ipynb Cell 37\u001b[0m line \u001b[0;36m1\n\u001b[1;32m----> <a href='vscode-notebook-cell:/c%3A/Users/91892/Desktop/Silver%20Price%20Prediction/Gold_Price_Prediction/Gold_Price_Prediction/silver_pp.ipynb#X51sZmlsZQ%3D%3D?line=0'>1</a>\u001b[0m predict\n",
      "\u001b[1;31mNameError\u001b[0m: name 'predict' is not defined"
     ]
    }
   ],
   "source": [
    "predict"
   ]
  }
 ],
 "metadata": {
  "kernelspec": {
   "display_name": "Python 3",
   "language": "python",
   "name": "python3"
  },
  "language_info": {
   "codemirror_mode": {
    "name": "ipython",
    "version": 3
   },
   "file_extension": ".py",
   "mimetype": "text/x-python",
   "name": "python",
   "nbconvert_exporter": "python",
   "pygments_lexer": "ipython3",
   "version": "3.10.1"
  },
  "orig_nbformat": 4
 },
 "nbformat": 4,
 "nbformat_minor": 2
}
